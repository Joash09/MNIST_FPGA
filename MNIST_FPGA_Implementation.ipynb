{
 "cells": [
  {
   "cell_type": "markdown",
   "metadata": {},
   "source": [
    "# MNIST FPGA Implementation\n",
    "Joash Naidoo\n",
    "\n",
    "Tutorial on creating synthesizable FPGA code for classifying the Hello World of Neural Networks, the MNIST data set. Typically I enjoy implementing things from first principles however hls4ml requires Keras model (tensorflow backend), so that is what I'll be using.\n",
    "\n",
    "This project was realized with the help of the following resources:\n",
    "\n",
    "1. [Keras Tutorial](https://aigeekprogrammer.com/keras-python-mnist-handwritten-digit-recognition/)\n",
    "\n",
    "2. [Keras API](https://keras.io/api/models/)\n",
    "\n",
    "3. [Neural Networks and Deep Learning](http://neuralnetworksanddeeplearning.com/chap1.html)\n",
    "\n",
    "4. [hls4ml](https://fastmachinelearning.org/hls4ml/)\n",
    "\n",
    "5. [hls4ml Tutorial](https://keras.io/api/models/)"
   ]
  },
  {
   "cell_type": "code",
   "execution_count": 1,
   "metadata": {},
   "outputs": [
    {
     "name": "stderr",
     "output_type": "stream",
     "text": [
      "Using TensorFlow backend.\n",
      "/home/joash/miniconda3/envs/mnist_fpga/lib/python3.7/site-packages/tensorflow/python/framework/dtypes.py:516: FutureWarning: Passing (type, 1) or '1type' as a synonym of type is deprecated; in a future version of numpy, it will be understood as (type, (1,)) / '(1,)type'.\n",
      "  _np_qint8 = np.dtype([(\"qint8\", np.int8, 1)])\n",
      "/home/joash/miniconda3/envs/mnist_fpga/lib/python3.7/site-packages/tensorflow/python/framework/dtypes.py:517: FutureWarning: Passing (type, 1) or '1type' as a synonym of type is deprecated; in a future version of numpy, it will be understood as (type, (1,)) / '(1,)type'.\n",
      "  _np_quint8 = np.dtype([(\"quint8\", np.uint8, 1)])\n",
      "/home/joash/miniconda3/envs/mnist_fpga/lib/python3.7/site-packages/tensorflow/python/framework/dtypes.py:518: FutureWarning: Passing (type, 1) or '1type' as a synonym of type is deprecated; in a future version of numpy, it will be understood as (type, (1,)) / '(1,)type'.\n",
      "  _np_qint16 = np.dtype([(\"qint16\", np.int16, 1)])\n",
      "/home/joash/miniconda3/envs/mnist_fpga/lib/python3.7/site-packages/tensorflow/python/framework/dtypes.py:519: FutureWarning: Passing (type, 1) or '1type' as a synonym of type is deprecated; in a future version of numpy, it will be understood as (type, (1,)) / '(1,)type'.\n",
      "  _np_quint16 = np.dtype([(\"quint16\", np.uint16, 1)])\n",
      "/home/joash/miniconda3/envs/mnist_fpga/lib/python3.7/site-packages/tensorflow/python/framework/dtypes.py:520: FutureWarning: Passing (type, 1) or '1type' as a synonym of type is deprecated; in a future version of numpy, it will be understood as (type, (1,)) / '(1,)type'.\n",
      "  _np_qint32 = np.dtype([(\"qint32\", np.int32, 1)])\n",
      "/home/joash/miniconda3/envs/mnist_fpga/lib/python3.7/site-packages/tensorflow/python/framework/dtypes.py:525: FutureWarning: Passing (type, 1) or '1type' as a synonym of type is deprecated; in a future version of numpy, it will be understood as (type, (1,)) / '(1,)type'.\n",
      "  np_resource = np.dtype([(\"resource\", np.ubyte, 1)])\n",
      "/home/joash/miniconda3/envs/mnist_fpga/lib/python3.7/site-packages/tensorboard/compat/tensorflow_stub/dtypes.py:541: FutureWarning: Passing (type, 1) or '1type' as a synonym of type is deprecated; in a future version of numpy, it will be understood as (type, (1,)) / '(1,)type'.\n",
      "  _np_qint8 = np.dtype([(\"qint8\", np.int8, 1)])\n",
      "/home/joash/miniconda3/envs/mnist_fpga/lib/python3.7/site-packages/tensorboard/compat/tensorflow_stub/dtypes.py:542: FutureWarning: Passing (type, 1) or '1type' as a synonym of type is deprecated; in a future version of numpy, it will be understood as (type, (1,)) / '(1,)type'.\n",
      "  _np_quint8 = np.dtype([(\"quint8\", np.uint8, 1)])\n",
      "/home/joash/miniconda3/envs/mnist_fpga/lib/python3.7/site-packages/tensorboard/compat/tensorflow_stub/dtypes.py:543: FutureWarning: Passing (type, 1) or '1type' as a synonym of type is deprecated; in a future version of numpy, it will be understood as (type, (1,)) / '(1,)type'.\n",
      "  _np_qint16 = np.dtype([(\"qint16\", np.int16, 1)])\n",
      "/home/joash/miniconda3/envs/mnist_fpga/lib/python3.7/site-packages/tensorboard/compat/tensorflow_stub/dtypes.py:544: FutureWarning: Passing (type, 1) or '1type' as a synonym of type is deprecated; in a future version of numpy, it will be understood as (type, (1,)) / '(1,)type'.\n",
      "  _np_quint16 = np.dtype([(\"quint16\", np.uint16, 1)])\n",
      "/home/joash/miniconda3/envs/mnist_fpga/lib/python3.7/site-packages/tensorboard/compat/tensorflow_stub/dtypes.py:545: FutureWarning: Passing (type, 1) or '1type' as a synonym of type is deprecated; in a future version of numpy, it will be understood as (type, (1,)) / '(1,)type'.\n",
      "  _np_qint32 = np.dtype([(\"qint32\", np.int32, 1)])\n",
      "/home/joash/miniconda3/envs/mnist_fpga/lib/python3.7/site-packages/tensorboard/compat/tensorflow_stub/dtypes.py:550: FutureWarning: Passing (type, 1) or '1type' as a synonym of type is deprecated; in a future version of numpy, it will be understood as (type, (1,)) / '(1,)type'.\n",
      "  np_resource = np.dtype([(\"resource\", np.ubyte, 1)])\n"
     ]
    }
   ],
   "source": [
    "# Imports\n",
    "import numpy as np\n",
    "import keras\n",
    "\n",
    "# Offers additional methods specific to MNIST dataset\n",
    "from keras.datasets import mnist"
   ]
  },
  {
   "cell_type": "code",
   "execution_count": 2,
   "metadata": {},
   "outputs": [
    {
     "name": "stdout",
     "output_type": "stream",
     "text": [
      "Downloading data from https://s3.amazonaws.com/img-datasets/mnist.npz\n",
      "11493376/11490434 [==============================] - 45s 4us/step\n"
     ]
    }
   ],
   "source": [
    "# Load MNIST Data\n",
    "(train_in, train_lbl), (test_in, test_lbl) = mnist.load_data()"
   ]
  },
  {
   "cell_type": "code",
   "execution_count": 3,
   "metadata": {},
   "outputs": [],
   "source": [
    "# Flatten 28x28 2D image\n",
    "train_in = train_in.reshape((-1, (28*28)))\n",
    "test_in = test_in.reshape((-1, (28*28)))"
   ]
  },
  {
   "cell_type": "code",
   "execution_count": 4,
   "metadata": {},
   "outputs": [],
   "source": [
    "# Create Model\n",
    "\n",
    "# Adopting basic model from http://neuralnetworksanddeeplearning.com/chap1.html\n",
    "\n",
    "from keras.models import Sequential\n",
    "from keras.layers import Dense\n",
    "\n",
    "model = Sequential ([\n",
    "        Dense(30, activation='sigmoid', input_shape=(784,)), # input layer to 30 hidden\n",
    "        Dense(10, activation='sigmoid') # 10 output\n",
    "        #Dense(10, activation='sigmoid') # 10 ouput neurons\n",
    "])\n",
    "\n",
    "# Compile the model\n",
    "\n",
    "model.compile(\n",
    "    optimizer='SGD',\n",
    "    loss='mean_squared_error',\n",
    "    metrics=['accuracy']\n",
    ")"
   ]
  },
  {
   "cell_type": "code",
   "execution_count": 5,
   "metadata": {},
   "outputs": [
    {
     "name": "stdout",
     "output_type": "stream",
     "text": [
      "WARNING:tensorflow:From /home/joash/miniconda3/envs/mnist_fpga/lib/python3.7/site-packages/keras/backend/tensorflow_backend.py:422: The name tf.global_variables is deprecated. Please use tf.compat.v1.global_variables instead.\n",
      "\n",
      "Epoch 1/30\n",
      "60000/60000 [==============================] - 8s 142us/step - loss: 0.0902 - accuracy: 0.3032\n",
      "Epoch 2/30\n",
      "60000/60000 [==============================] - 8s 130us/step - loss: 0.0708 - accuracy: 0.5536\n",
      "Epoch 3/30\n",
      "60000/60000 [==============================] - 7s 112us/step - loss: 0.0597 - accuracy: 0.7198\n",
      "Epoch 4/30\n",
      "60000/60000 [==============================] - 7s 119us/step - loss: 0.0521 - accuracy: 0.7853\n",
      "Epoch 5/30\n",
      "60000/60000 [==============================] - 8s 130us/step - loss: 0.0464 - accuracy: 0.8108\n",
      "Epoch 6/30\n",
      "60000/60000 [==============================] - 7s 122us/step - loss: 0.0420 - accuracy: 0.8295\n",
      "Epoch 7/30\n",
      "60000/60000 [==============================] - 7s 122us/step - loss: 0.0382 - accuracy: 0.8464\n",
      "Epoch 8/30\n",
      "60000/60000 [==============================] - 7s 123us/step - loss: 0.0355 - accuracy: 0.8571\n",
      "Epoch 9/30\n",
      "60000/60000 [==============================] - 7s 119us/step - loss: 0.0332 - accuracy: 0.8645\n",
      "Epoch 10/30\n",
      "60000/60000 [==============================] - 7s 119us/step - loss: 0.0311 - accuracy: 0.8710\n",
      "Epoch 11/30\n",
      "60000/60000 [==============================] - 7s 120us/step - loss: 0.0295 - accuracy: 0.8751\n",
      "Epoch 12/30\n",
      "60000/60000 [==============================] - 7s 119us/step - loss: 0.0281 - accuracy: 0.8796\n",
      "Epoch 13/30\n",
      "60000/60000 [==============================] - 7s 122us/step - loss: 0.0269 - accuracy: 0.8837\n",
      "Epoch 14/30\n",
      "60000/60000 [==============================] - 8s 126us/step - loss: 0.0259 - accuracy: 0.8857\n",
      "Epoch 15/30\n",
      "60000/60000 [==============================] - 8s 133us/step - loss: 0.0250 - accuracy: 0.8881\n",
      "Epoch 16/30\n",
      "60000/60000 [==============================] - 7s 112us/step - loss: 0.0241 - accuracy: 0.8917\n",
      "Epoch 17/30\n",
      "60000/60000 [==============================] - 7s 115us/step - loss: 0.0234 - accuracy: 0.8932\n",
      "Epoch 18/30\n",
      "60000/60000 [==============================] - 7s 115us/step - loss: 0.0228 - accuracy: 0.8943\n",
      "Epoch 19/30\n",
      "60000/60000 [==============================] - 7s 115us/step - loss: 0.0221 - accuracy: 0.8976\n",
      "Epoch 20/30\n",
      "60000/60000 [==============================] - 7s 111us/step - loss: 0.0217 - accuracy: 0.8986\n",
      "Epoch 21/30\n",
      "60000/60000 [==============================] - 7s 111us/step - loss: 0.0213 - accuracy: 0.8996\n",
      "Epoch 22/30\n",
      "60000/60000 [==============================] - 7s 115us/step - loss: 0.0208 - accuracy: 0.9007\n",
      "Epoch 23/30\n",
      "60000/60000 [==============================] - 7s 112us/step - loss: 0.0204 - accuracy: 0.9021\n",
      "Epoch 24/30\n",
      "60000/60000 [==============================] - 7s 112us/step - loss: 0.0200 - accuracy: 0.9047\n",
      "Epoch 25/30\n",
      "60000/60000 [==============================] - 7s 111us/step - loss: 0.0196 - accuracy: 0.9041\n",
      "Epoch 26/30\n",
      "60000/60000 [==============================] - 7s 110us/step - loss: 0.0194 - accuracy: 0.9049\n",
      "Epoch 27/30\n",
      "60000/60000 [==============================] - 7s 111us/step - loss: 0.0192 - accuracy: 0.9055\n",
      "Epoch 28/30\n",
      "60000/60000 [==============================] - 7s 112us/step - loss: 0.0188 - accuracy: 0.9080\n",
      "Epoch 29/30\n",
      "60000/60000 [==============================] - 7s 114us/step - loss: 0.0185 - accuracy: 0.9085\n",
      "Epoch 30/30\n",
      "60000/60000 [==============================] - 7s 113us/step - loss: 0.0183 - accuracy: 0.9092\n"
     ]
    },
    {
     "data": {
      "text/plain": [
       "<keras.callbacks.callbacks.History at 0x7f2670fbcdd0>"
      ]
     },
     "execution_count": 5,
     "metadata": {},
     "output_type": "execute_result"
    }
   ],
   "source": [
    "# Train the model!\n",
    "\n",
    "# Gives about a 91% accuracy. Not the main focus of this project\n",
    "\n",
    "model.fit(\n",
    "    x=train_in,\n",
    "    y=keras.utils.to_categorical(train_lbl),\n",
    "    epochs=30,\n",
    "    batch_size=10,\n",
    "    shuffle=True\n",
    ")"
   ]
  },
  {
   "cell_type": "code",
   "execution_count": 6,
   "metadata": {},
   "outputs": [
    {
     "name": "stdout",
     "output_type": "stream",
     "text": [
      "10000/10000 [==============================] - 0s 43us/step\n"
     ]
    },
    {
     "data": {
      "text/plain": [
       "[0.018436268243938684, 0.9077000021934509]"
      ]
     },
     "execution_count": 6,
     "metadata": {},
     "output_type": "execute_result"
    }
   ],
   "source": [
    "# Evaluate the model\n",
    "\n",
    "eval = model.evaluate(test_in, keras.utils.to_categorical(test_lbl))\n",
    "eval"
   ]
  },
  {
   "cell_type": "markdown",
   "metadata": {},
   "source": [
    "## HLS4ML"
   ]
  },
  {
   "cell_type": "code",
   "execution_count": 11,
   "metadata": {},
   "outputs": [],
   "source": [
    "import hls4ml\n",
    "\n",
    "from keras.utils.vis_utils import plot_model"
   ]
  },
  {
   "cell_type": "code",
   "execution_count": 12,
   "metadata": {
    "scrolled": true
   },
   "outputs": [
    {
     "name": "stdout",
     "output_type": "stream",
     "text": [
      "Interpreting Sequential\n",
      "Topology:\n",
      "Layer name: dense_1, layer type: Dense\n",
      "  -> Activation (sigmoid), layer name: dense_1\n",
      "Layer name: dense_2, layer type: Dense\n",
      "  -> Activation (sigmoid), layer name: dense_2\n"
     ]
    },
    {
     "data": {
      "text/plain": [
       "{'Model': {'Precision': 'ap_fixed<16,6>',\n",
       "  'ReuseFactor': 1,\n",
       "  'Strategy': 'Latency'}}"
      ]
     },
     "execution_count": 12,
     "metadata": {},
     "output_type": "execute_result"
    }
   ],
   "source": [
    "# Need a clearer idea what this is for\n",
    "\n",
    "config = hls4ml.utils.config_from_keras_model(model, granularity='model')\n",
    "config"
   ]
  },
  {
   "cell_type": "code",
   "execution_count": 13,
   "metadata": {},
   "outputs": [
    {
     "name": "stdout",
     "output_type": "stream",
     "text": [
      "Interpreting Sequential\n",
      "Input shape: [784]\n",
      "Topology:\n",
      "Layer name: dense_1, layer type: Dense, current shape: [[None, 784]]\n",
      "Layer name: dense_2, layer type: Dense, current shape: [[None, 30]]\n",
      "Creating HLS model\n"
     ]
    }
   ],
   "source": [
    "# Building the model for Kintex7 KC705 Evaluation board\n",
    "\n",
    "hls_model = hls4ml.converters.convert_from_keras_model(\n",
    "                    model,\n",
    "                    hls_config=config,\n",
    "                    output_dir='model_1\\hls4ml_prj',\n",
    "                    fpga_part='XC7K325T-2FFG900C'\n",
    ")"
   ]
  },
  {
   "cell_type": "code",
   "execution_count": 15,
   "metadata": {},
   "outputs": [
    {
     "name": "stdout",
     "output_type": "stream",
     "text": [
      "Failed to import pydot. You must install pydot and graphviz for `pydotprint` to work.\n"
     ]
    }
   ],
   "source": [
    "hls4ml.utils.plot_model(hls_model, show_shapes=True, show_precision=True, to_file=None)"
   ]
  },
  {
   "cell_type": "code",
   "execution_count": null,
   "metadata": {},
   "outputs": [
    {
     "name": "stdout",
     "output_type": "stream",
     "text": [
      "/home/joash/miniconda3/envs/mnist_fpga/bin:/home/joash/miniconda3/condabin:/usr/local/sbin:/usr/local/bin:/usr/sbin:/usr/bin:/sbin:/bin:/usr/games:/usr/local/games:/mnt/c/Program Files/WindowsApps/CanonicalGroupLimited.Ubuntu18.04onWindows_1804.2020.824.0_x64__79rhkp1fndgsc:/mnt/c/ProgramData/Oracle/Java/javapath:/mnt/c/Program Files/National Instruments/Shared/OpenVINO:/mnt/c/Windows/system32:/mnt/c/Windows:/mnt/c/Windows/System32/Wbem:/mnt/c/Windows/System32/WindowsPowerShell/v1.0:/mnt/c/Windows/System32/OpenSSH:/mnt/c/Program Files (x86)/IVI Foundation/VISA/WinNT/Bin:/mnt/c/Program Files/IVI Foundation/VISA/Win64/Bin:/mnt/c/Program Files (x86)/IVI Foundation/VISA/WinNT/Bin:/mnt/c/Program Files/Git/cmd:/mnt/c/Program Files/Neovim/bin:/mnt/c/Program Files/Inkscape/bin:/mnt/c/Program Files (x86)/ZeroTier/One:/mnt/c/Users/joash/AppData/Local/Programs/Python/Python38:/mnt/c/Users/joash/AppData/Local/Programs/Python/Python38/Scripts:/mnt/c/Users/joash/AppData/Local/Microsoft/WindowsApps:/mnt/c/MinGW/bin:/snap/bin\n",
      "\n",
      "/home/joash/miniconda3/envs/mnist_fpga/bin:/home/joash/miniconda3/condabin:/usr/local/sbin:/usr/local/bin:/usr/sbin:/usr/bin:/sbin:/bin:/usr/games:/usr/local/games:/mnt/c/Program Files/WindowsApps/CanonicalGroupLimited.Ubuntu18.04onWindows_1804.2020.824.0_x64__79rhkp1fndgsc:/mnt/c/ProgramData/Oracle/Java/javapath:/mnt/c/Program Files/National Instruments/Shared/OpenVINO:/mnt/c/Windows/system32:/mnt/c/Windows:/mnt/c/Windows/System32/Wbem:/mnt/c/Windows/System32/WindowsPowerShell/v1.0:/mnt/c/Windows/System32/OpenSSH:/mnt/c/Program Files (x86)/IVI Foundation/VISA/WinNT/Bin:/mnt/c/Program Files/IVI Foundation/VISA/Win64/Bin:/mnt/c/Program Files (x86)/IVI Foundation/VISA/WinNT/Bin:/mnt/c/Program Files/Git/cmd:/mnt/c/Program Files/Neovim/bin:/mnt/c/Program Files/Inkscape/bin:/mnt/c/Program Files (x86)/ZeroTier/One:/mnt/c/Users/joash/AppData/Local/Programs/Python/Python38:/mnt/c/Users/joash/AppData/Local/Programs/Python/Python38/Scripts:/mnt/c/Users/joash/AppData/Local/Microsoft/WindowsApps:/mnt/c/MinGW/bin:/snap/bin;C:\\Xilinx\\Vivado\\2019.2\\bin\\unwrapped\\\n",
      "Writing HLS project\n",
      "Done\n"
     ]
    }
   ],
   "source": [
    "import os\n",
    "# Add Vivado to PATH to Windows PATH\n",
    "print(os.environ['PATH'])\n",
    "os.environ['PATH'] += ';C:\\\\Xilinx\\\\Vivado\\\\2019.2\\\\bin\\\\unwrapped\\\\'\n",
    "print('\\n'+os.environ['PATH'])\n",
    "\n",
    "hls_model.compile()\n",
    "hls_output = hls_model.predict(test_in)"
   ]
  }
 ],
 "metadata": {
  "kernelspec": {
   "display_name": "Python 3",
   "language": "python",
   "name": "python3"
  },
  "language_info": {
   "codemirror_mode": {
    "name": "ipython",
    "version": 3
   },
   "file_extension": ".py",
   "mimetype": "text/x-python",
   "name": "python",
   "nbconvert_exporter": "python",
   "pygments_lexer": "ipython3",
   "version": "3.7.9"
  }
 },
 "nbformat": 4,
 "nbformat_minor": 4
}
