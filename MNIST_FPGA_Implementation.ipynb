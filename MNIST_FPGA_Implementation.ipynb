{
 "cells": [
  {
   "cell_type": "markdown",
   "metadata": {},
   "source": [
    "# MNIST FPGA Implementation\n",
    "Joash Naidoo\n",
    "\n",
    "Tutorial on creating synthesizable FPGA code for classifying the Hello World of Neural Networks, the MNIST data set. Typically I enjoy implementing things from first principles however hls4ml requires Keras model (tensorflow backend), so that is what I'll be using.\n",
    "\n",
    "This project was realized with the help of the following resources:\n",
    "\n",
    "1. [Keras Tutorial](https://aigeekprogrammer.com/keras-python-mnist-handwritten-digit-recognition/)\n",
    "\n",
    "2. [Keras API](https://keras.io/api/models/)\n",
    "\n",
    "3. [Neural Networks and Deep Learning](http://neuralnetworksanddeeplearning.com/chap1.html)\n",
    "\n",
    "4. [hls4ml](https://fastmachinelearning.org/hls4ml/)\n",
    "\n",
    "5. [hls4ml Tutorial](https://keras.io/api/models/)"
   ]
  },
  {
   "cell_type": "code",
   "execution_count": 1,
   "metadata": {},
   "outputs": [],
   "source": [
    "# Imports\n",
    "import numpy as np\n",
    "import keras\n",
    "\n",
    "# Offers additional methods specific to MNIST dataset\n",
    "from keras.datasets import mnist"
   ]
  },
  {
   "cell_type": "code",
   "execution_count": 2,
   "metadata": {},
   "outputs": [],
   "source": [
    "# Load MNIST Data\n",
    "(train_in, train_lbl), (test_in, test_lbl) = mnist.load_data()"
   ]
  },
  {
   "cell_type": "code",
   "execution_count": 3,
   "metadata": {},
   "outputs": [],
   "source": [
    "# Flatten 28x28 2D image\n",
    "train_in = train_in.reshape((-1, (28*28)))\n",
    "test_in = test_in.reshape((-1, (28*28)))"
   ]
  },
  {
   "cell_type": "code",
   "execution_count": 4,
   "metadata": {},
   "outputs": [],
   "source": [
    "# Create Model\n",
    "\n",
    "# Adopting basic model from http://neuralnetworksanddeeplearning.com/chap1.html\n",
    "\n",
    "from keras.models import Sequential\n",
    "from keras.layers import Dense\n",
    "\n",
    "model = Sequential ([\n",
    "        Dense(30, activation='sigmoid', input_shape=(784,)), # input layer to 30 hidden\n",
    "        Dense(10, activation='sigmoid') # 10 output\n",
    "        #Dense(10, activation='sigmoid') # 10 ouput neurons\n",
    "])\n",
    "\n",
    "# Compile the model\n",
    "\n",
    "model.compile(\n",
    "    optimizer='SGD',\n",
    "    loss='mean_squared_error',\n",
    "    metrics=['accuracy']\n",
    ")"
   ]
  },
  {
   "cell_type": "code",
   "execution_count": 5,
   "metadata": {},
   "outputs": [
    {
     "name": "stdout",
     "output_type": "stream",
     "text": [
      "Epoch 1/30\n",
      "6000/6000 [==============================] - 5s 882us/step - loss: 0.0884 - accuracy: 0.4006\n",
      "Epoch 2/30\n",
      "6000/6000 [==============================] - 5s 877us/step - loss: 0.0672 - accuracy: 0.6087\n",
      "Epoch 3/30\n",
      "6000/6000 [==============================] - 5s 875us/step - loss: 0.0570 - accuracy: 0.7005\n",
      "Epoch 4/30\n",
      "6000/6000 [==============================] - 5s 867us/step - loss: 0.0502 - accuracy: 0.7496\n",
      "Epoch 5/30\n",
      "6000/6000 [==============================] - 5s 868us/step - loss: 0.0451 - accuracy: 0.7931\n",
      "Epoch 6/30\n",
      "6000/6000 [==============================] - 5s 872us/step - loss: 0.0409 - accuracy: 0.8278\n",
      "Epoch 7/30\n",
      "6000/6000 [==============================] - 5s 888us/step - loss: 0.0374 - accuracy: 0.8501\n",
      "Epoch 8/30\n",
      "6000/6000 [==============================] - 5s 862us/step - loss: 0.0345 - accuracy: 0.8623\n",
      "Epoch 9/30\n",
      "6000/6000 [==============================] - 6s 960us/step - loss: 0.0320 - accuracy: 0.8684\n",
      "Epoch 10/30\n",
      "6000/6000 [==============================] - 6s 1ms/step - loss: 0.0301 - accuracy: 0.8744\n",
      "Epoch 11/30\n",
      "6000/6000 [==============================] - 5s 877us/step - loss: 0.0285 - accuracy: 0.8777\n",
      "Epoch 12/30\n",
      "6000/6000 [==============================] - 6s 942us/step - loss: 0.0272 - accuracy: 0.8816\n",
      "Epoch 13/30\n",
      "6000/6000 [==============================] - 5s 882us/step - loss: 0.0259 - accuracy: 0.8834\n",
      "Epoch 14/30\n",
      "6000/6000 [==============================] - 5s 884us/step - loss: 0.0248 - accuracy: 0.8873\n",
      "Epoch 15/30\n",
      "6000/6000 [==============================] - 5s 883us/step - loss: 0.0241 - accuracy: 0.8891\n",
      "Epoch 16/30\n",
      "6000/6000 [==============================] - 5s 875us/step - loss: 0.0232 - accuracy: 0.8916\n",
      "Epoch 17/30\n",
      "6000/6000 [==============================] - 5s 883us/step - loss: 0.0225 - accuracy: 0.8945\n",
      "Epoch 18/30\n",
      "6000/6000 [==============================] - 5s 900us/step - loss: 0.0219 - accuracy: 0.8953\n",
      "Epoch 19/30\n",
      "6000/6000 [==============================] - 5s 878us/step - loss: 0.0214 - accuracy: 0.8959\n",
      "Epoch 20/30\n",
      "6000/6000 [==============================] - 5s 890us/step - loss: 0.0210 - accuracy: 0.8978\n",
      "Epoch 21/30\n",
      "6000/6000 [==============================] - 5s 885us/step - loss: 0.0204 - accuracy: 0.8990\n",
      "Epoch 22/30\n",
      "6000/6000 [==============================] - 5s 888us/step - loss: 0.0201 - accuracy: 0.8998\n",
      "Epoch 23/30\n",
      "6000/6000 [==============================] - 5s 897us/step - loss: 0.0197 - accuracy: 0.9015\n",
      "Epoch 24/30\n",
      "6000/6000 [==============================] - 5s 880us/step - loss: 0.0194 - accuracy: 0.9011\n",
      "Epoch 25/30\n",
      "6000/6000 [==============================] - 5s 882us/step - loss: 0.0192 - accuracy: 0.9018\n",
      "Epoch 26/30\n",
      "6000/6000 [==============================] - 6s 947us/step - loss: 0.0189 - accuracy: 0.9035\n",
      "Epoch 27/30\n",
      "6000/6000 [==============================] - 6s 970us/step - loss: 0.0186 - accuracy: 0.9037\n",
      "Epoch 28/30\n",
      "6000/6000 [==============================] - 6s 940us/step - loss: 0.0184 - accuracy: 0.9054\n",
      "Epoch 29/30\n",
      "6000/6000 [==============================] - 6s 920us/step - loss: 0.0180 - accuracy: 0.9063\n",
      "Epoch 30/30\n",
      "6000/6000 [==============================] - 6s 923us/step - loss: 0.0178 - accuracy: 0.9084\n"
     ]
    },
    {
     "data": {
      "text/plain": [
       "<tensorflow.python.keras.callbacks.History at 0x266b091ddf0>"
      ]
     },
     "execution_count": 5,
     "metadata": {},
     "output_type": "execute_result"
    }
   ],
   "source": [
    "# Train the model!\n",
    "\n",
    "# Gives about a 91% accuracy. Not the main focus of this project\n",
    "\n",
    "model.fit(\n",
    "    x=train_in,\n",
    "    y=keras.utils.to_categorical(train_lbl),\n",
    "    epochs=30,\n",
    "    batch_size=10,\n",
    "    shuffle=True\n",
    ")"
   ]
  },
  {
   "cell_type": "code",
   "execution_count": 6,
   "metadata": {},
   "outputs": [
    {
     "name": "stdout",
     "output_type": "stream",
     "text": [
      "313/313 [==============================] - 0s 1ms/step - loss: 0.0180 - accuracy: 0.9074\n"
     ]
    },
    {
     "data": {
      "text/plain": [
       "[0.01795855723321438, 0.9074000120162964]"
      ]
     },
     "execution_count": 6,
     "metadata": {},
     "output_type": "execute_result"
    }
   ],
   "source": [
    "# Evaluate the model\n",
    "\n",
    "eval = model.evaluate(test_in, keras.utils.to_categorical(test_lbl))\n",
    "eval"
   ]
  },
  {
   "cell_type": "markdown",
   "metadata": {},
   "source": [
    "## HLS4ML"
   ]
  },
  {
   "cell_type": "code",
   "execution_count": 7,
   "metadata": {},
   "outputs": [],
   "source": [
    "import hls4ml\n",
    "\n",
    "from keras.utils.vis_utils import plot_model\n",
    "\n",
    "%matplotlib inline"
   ]
  },
  {
   "cell_type": "code",
   "execution_count": 8,
   "metadata": {
    "scrolled": true
   },
   "outputs": [
    {
     "name": "stdout",
     "output_type": "stream",
     "text": [
      "Interpreting Sequential\n",
      "Topology:\n",
      "Layer name: dense_input, layer type: Input\n",
      "Layer name: dense, layer type: Dense\n",
      "  -> Activation (sigmoid), layer name: dense\n",
      "Layer name: dense_1, layer type: Dense\n",
      "  -> Activation (sigmoid), layer name: dense_1\n"
     ]
    },
    {
     "data": {
      "text/plain": [
       "{'Model': {'Precision': 'ap_fixed<16,6>',\n",
       "  'ReuseFactor': 1,\n",
       "  'Strategy': 'Latency'}}"
      ]
     },
     "execution_count": 8,
     "metadata": {},
     "output_type": "execute_result"
    }
   ],
   "source": [
    "# Need a clearer idea what this is for\n",
    "\n",
    "config = hls4ml.utils.config_from_keras_model(model, granularity='model')\n",
    "config"
   ]
  },
  {
   "cell_type": "code",
   "execution_count": 9,
   "metadata": {},
   "outputs": [
    {
     "name": "stdout",
     "output_type": "stream",
     "text": [
      "Interpreting Sequential\n",
      "Topology:\n",
      "Layer name: dense_input, layer type: InputLayer, current shape: [[None, 784]]\n",
      "Layer name: dense, layer type: Dense, current shape: [[None, 784]]\n",
      "Layer name: dense_1, layer type: Dense, current shape: [[None, 30]]\n",
      "Creating HLS model\n"
     ]
    }
   ],
   "source": [
    "# Building the model for Kintex7 KC705 Evaluation board\n",
    "\n",
    "hls_model = hls4ml.converters.convert_from_keras_model(\n",
    "                    model,\n",
    "                    hls_config=config,\n",
    "                    output_dir='model_1\\hls4ml_prj',\n",
    "                    fpga_part='XC7K325T-2FFG900C'\n",
    ")"
   ]
  },
  {
   "cell_type": "code",
   "execution_count": 10,
   "metadata": {},
   "outputs": [
    {
     "ename": "PermissionError",
     "evalue": "[Errno 13] Permission denied: 'C:\\\\Users\\\\joash\\\\AppData\\\\Local\\\\Temp\\\\tmpjji0t7po.png'",
     "output_type": "error",
     "traceback": [
      "\u001b[1;31m---------------------------------------------------------------------------\u001b[0m",
      "\u001b[1;31mPermissionError\u001b[0m                           Traceback (most recent call last)",
      "\u001b[1;32m<ipython-input-10-ea3840741460>\u001b[0m in \u001b[0;36m<module>\u001b[1;34m\u001b[0m\n\u001b[1;32m----> 1\u001b[1;33m \u001b[0mhls4ml\u001b[0m\u001b[1;33m.\u001b[0m\u001b[0mutils\u001b[0m\u001b[1;33m.\u001b[0m\u001b[0mplot_model\u001b[0m\u001b[1;33m(\u001b[0m\u001b[0mhls_model\u001b[0m\u001b[1;33m,\u001b[0m \u001b[0mshow_shapes\u001b[0m\u001b[1;33m=\u001b[0m\u001b[1;32mTrue\u001b[0m\u001b[1;33m,\u001b[0m \u001b[0mshow_precision\u001b[0m\u001b[1;33m=\u001b[0m\u001b[1;32mTrue\u001b[0m\u001b[1;33m,\u001b[0m \u001b[0mto_file\u001b[0m\u001b[1;33m=\u001b[0m\u001b[1;32mNone\u001b[0m\u001b[1;33m)\u001b[0m\u001b[1;33m\u001b[0m\u001b[1;33m\u001b[0m\u001b[0m\n\u001b[0m",
      "\u001b[1;32m~\\miniconda3\\envs\\mnist_fpga\\lib\\site-packages\\hls4ml\\utils\\plot.py\u001b[0m in \u001b[0;36mplot_model\u001b[1;34m(model, to_file, show_shapes, show_layer_names, show_precision, rankdir, dpi)\u001b[0m\n\u001b[0;32m    230\u001b[0m \u001b[1;33m\u001b[0m\u001b[0m\n\u001b[0;32m    231\u001b[0m             \u001b[0mtemp\u001b[0m \u001b[1;33m=\u001b[0m \u001b[0mtempfile\u001b[0m\u001b[1;33m.\u001b[0m\u001b[0mNamedTemporaryFile\u001b[0m\u001b[1;33m(\u001b[0m\u001b[0msuffix\u001b[0m\u001b[1;33m=\u001b[0m\u001b[1;34m'.png'\u001b[0m\u001b[1;33m)\u001b[0m\u001b[1;33m\u001b[0m\u001b[1;33m\u001b[0m\u001b[0m\n\u001b[1;32m--> 232\u001b[1;33m             \u001b[0mdot\u001b[0m\u001b[1;33m.\u001b[0m\u001b[0mwrite\u001b[0m\u001b[1;33m(\u001b[0m\u001b[0mtemp\u001b[0m\u001b[1;33m.\u001b[0m\u001b[0mname\u001b[0m\u001b[1;33m,\u001b[0m \u001b[0mformat\u001b[0m\u001b[1;33m=\u001b[0m\u001b[1;34m'png'\u001b[0m\u001b[1;33m)\u001b[0m\u001b[1;33m\u001b[0m\u001b[1;33m\u001b[0m\u001b[0m\n\u001b[0m\u001b[0;32m    233\u001b[0m             \u001b[1;32mreturn\u001b[0m \u001b[0mdisplay\u001b[0m\u001b[1;33m.\u001b[0m\u001b[0mImage\u001b[0m\u001b[1;33m(\u001b[0m\u001b[0mfilename\u001b[0m\u001b[1;33m=\u001b[0m\u001b[0mtemp\u001b[0m\u001b[1;33m.\u001b[0m\u001b[0mname\u001b[0m\u001b[1;33m)\u001b[0m\u001b[1;33m\u001b[0m\u001b[1;33m\u001b[0m\u001b[0m\n\u001b[0;32m    234\u001b[0m         \u001b[1;32mexcept\u001b[0m \u001b[0mImportError\u001b[0m\u001b[1;33m:\u001b[0m\u001b[1;33m\u001b[0m\u001b[1;33m\u001b[0m\u001b[0m\n",
      "\u001b[1;32m~\\miniconda3\\envs\\mnist_fpga\\lib\\site-packages\\pydot.py\u001b[0m in \u001b[0;36mwrite\u001b[1;34m(self, path, prog, format, encoding)\u001b[0m\n\u001b[0;32m   1816\u001b[0m         \u001b[1;32melse\u001b[0m\u001b[1;33m:\u001b[0m\u001b[1;33m\u001b[0m\u001b[1;33m\u001b[0m\u001b[0m\n\u001b[0;32m   1817\u001b[0m             \u001b[0ms\u001b[0m \u001b[1;33m=\u001b[0m \u001b[0mself\u001b[0m\u001b[1;33m.\u001b[0m\u001b[0mcreate\u001b[0m\u001b[1;33m(\u001b[0m\u001b[0mprog\u001b[0m\u001b[1;33m,\u001b[0m \u001b[0mformat\u001b[0m\u001b[1;33m,\u001b[0m \u001b[0mencoding\u001b[0m\u001b[1;33m=\u001b[0m\u001b[0mencoding\u001b[0m\u001b[1;33m)\u001b[0m\u001b[1;33m\u001b[0m\u001b[1;33m\u001b[0m\u001b[0m\n\u001b[1;32m-> 1818\u001b[1;33m             \u001b[1;32mwith\u001b[0m \u001b[0mio\u001b[0m\u001b[1;33m.\u001b[0m\u001b[0mopen\u001b[0m\u001b[1;33m(\u001b[0m\u001b[0mpath\u001b[0m\u001b[1;33m,\u001b[0m \u001b[0mmode\u001b[0m\u001b[1;33m=\u001b[0m\u001b[1;34m'wb'\u001b[0m\u001b[1;33m)\u001b[0m \u001b[1;32mas\u001b[0m \u001b[0mf\u001b[0m\u001b[1;33m:\u001b[0m\u001b[1;33m\u001b[0m\u001b[1;33m\u001b[0m\u001b[0m\n\u001b[0m\u001b[0;32m   1819\u001b[0m                 \u001b[0mf\u001b[0m\u001b[1;33m.\u001b[0m\u001b[0mwrite\u001b[0m\u001b[1;33m(\u001b[0m\u001b[0ms\u001b[0m\u001b[1;33m)\u001b[0m\u001b[1;33m\u001b[0m\u001b[1;33m\u001b[0m\u001b[0m\n\u001b[0;32m   1820\u001b[0m         \u001b[1;32mreturn\u001b[0m \u001b[1;32mTrue\u001b[0m\u001b[1;33m\u001b[0m\u001b[1;33m\u001b[0m\u001b[0m\n",
      "\u001b[1;31mPermissionError\u001b[0m: [Errno 13] Permission denied: 'C:\\\\Users\\\\joash\\\\AppData\\\\Local\\\\Temp\\\\tmpjji0t7po.png'"
     ]
    }
   ],
   "source": [
    "hls4ml.utils.plot_model(hls_model, show_shapes=True, show_precision=True, to_file=None)"
   ]
  },
  {
   "cell_type": "code",
   "execution_count": 12,
   "metadata": {},
   "outputs": [
    {
     "name": "stdout",
     "output_type": "stream",
     "text": [
      "C:\\Users\\joash\\miniconda3\\envs\\mnist_fpga;C:\\Users\\joash\\miniconda3\\envs\\mnist_fpga\\Library\\mingw-w64\\bin;C:\\Users\\joash\\miniconda3\\envs\\mnist_fpga\\Library\\usr\\bin;C:\\Users\\joash\\miniconda3\\envs\\mnist_fpga\\Library\\bin;C:\\Users\\joash\\miniconda3\\envs\\mnist_fpga\\Scripts;C:\\Users\\joash\\miniconda3\\envs\\mnist_fpga\\bin;C:\\Users\\joash\\miniconda3\\condabin;C:\\ProgramData\\Oracle\\Java\\javapath;C:\\Program Files\\National Instruments\\Shared\\OpenVINO;C:\\Windows\\system32;C:\\Windows;C:\\Windows\\System32\\Wbem;C:\\Windows\\System32\\WindowsPowerShell\\v1.0;C:\\Windows\\System32\\OpenSSH;C:\\Program Files (x86)\\IVI Foundation\\VISA\\WinNT\\Bin;C:\\Program Files\\IVI Foundation\\VISA\\Win64\\Bin;C:\\Program Files (x86)\\IVI Foundation\\VISA\\WinNT\\Bin;C:\\Program Files\\Git\\cmd;C:\\Program Files\\Neovim\\bin;C:\\Program Files\\Inkscape\\bin;C:\\Program Files (x86)\\ZeroTier\\One;C:\\Users\\joash\\AppData\\Local\\Programs\\Python\\Python38\\Scripts;C:\\Users\\joash\\AppData\\Local\\Programs\\Python\\Python38;C:\\Users\\joash\\AppData\\Local\\Microsoft\\WindowsApps;C:\\MinGW\\bin;.;C:\\Users\\joash\\miniconda3\\envs\\mnist_fpga\\lib\\site-packages\\scipy\\.libs;C:\\Xilinx\\Vivado\\2019.2\\bin\\unwrapped\\\n",
      "\n",
      "C:\\Users\\joash\\miniconda3\\envs\\mnist_fpga;C:\\Users\\joash\\miniconda3\\envs\\mnist_fpga\\Library\\mingw-w64\\bin;C:\\Users\\joash\\miniconda3\\envs\\mnist_fpga\\Library\\usr\\bin;C:\\Users\\joash\\miniconda3\\envs\\mnist_fpga\\Library\\bin;C:\\Users\\joash\\miniconda3\\envs\\mnist_fpga\\Scripts;C:\\Users\\joash\\miniconda3\\envs\\mnist_fpga\\bin;C:\\Users\\joash\\miniconda3\\condabin;C:\\ProgramData\\Oracle\\Java\\javapath;C:\\Program Files\\National Instruments\\Shared\\OpenVINO;C:\\Windows\\system32;C:\\Windows;C:\\Windows\\System32\\Wbem;C:\\Windows\\System32\\WindowsPowerShell\\v1.0;C:\\Windows\\System32\\OpenSSH;C:\\Program Files (x86)\\IVI Foundation\\VISA\\WinNT\\Bin;C:\\Program Files\\IVI Foundation\\VISA\\Win64\\Bin;C:\\Program Files (x86)\\IVI Foundation\\VISA\\WinNT\\Bin;C:\\Program Files\\Git\\cmd;C:\\Program Files\\Neovim\\bin;C:\\Program Files\\Inkscape\\bin;C:\\Program Files (x86)\\ZeroTier\\One;C:\\Users\\joash\\AppData\\Local\\Programs\\Python\\Python38\\Scripts;C:\\Users\\joash\\AppData\\Local\\Programs\\Python\\Python38;C:\\Users\\joash\\AppData\\Local\\Microsoft\\WindowsApps;C:\\MinGW\\bin;.;C:\\Users\\joash\\miniconda3\\envs\\mnist_fpga\\lib\\site-packages\\scipy\\.libs;C:\\Xilinx\\Vivado\\2019.2\\bin\\unwrapped\\;C:\\Windows\\System32;C:\\Xilinx\\Vivado\\2019.2\\bin\\unwrapped\\\n",
      "Writing HLS project\n",
      "Done\n"
     ]
    },
    {
     "ename": "Exception",
     "evalue": "Failed to compile project \"myproject\"",
     "output_type": "error",
     "traceback": [
      "\u001b[1;31m---------------------------------------------------------------------------\u001b[0m",
      "\u001b[1;31mException\u001b[0m                                 Traceback (most recent call last)",
      "\u001b[1;32m<ipython-input-12-e926b94bcc9b>\u001b[0m in \u001b[0;36m<module>\u001b[1;34m\u001b[0m\n\u001b[0;32m      6\u001b[0m \u001b[0mprint\u001b[0m\u001b[1;33m(\u001b[0m\u001b[1;34m'\\n'\u001b[0m\u001b[1;33m+\u001b[0m\u001b[0mos\u001b[0m\u001b[1;33m.\u001b[0m\u001b[0menviron\u001b[0m\u001b[1;33m[\u001b[0m\u001b[1;34m'PATH'\u001b[0m\u001b[1;33m]\u001b[0m\u001b[1;33m)\u001b[0m\u001b[1;33m\u001b[0m\u001b[1;33m\u001b[0m\u001b[0m\n\u001b[0;32m      7\u001b[0m \u001b[1;33m\u001b[0m\u001b[0m\n\u001b[1;32m----> 8\u001b[1;33m \u001b[0mhls_model\u001b[0m\u001b[1;33m.\u001b[0m\u001b[0mcompile\u001b[0m\u001b[1;33m(\u001b[0m\u001b[1;33m)\u001b[0m\u001b[1;33m\u001b[0m\u001b[1;33m\u001b[0m\u001b[0m\n\u001b[0m\u001b[0;32m      9\u001b[0m \u001b[0mhls_output\u001b[0m \u001b[1;33m=\u001b[0m \u001b[0mhls_model\u001b[0m\u001b[1;33m.\u001b[0m\u001b[0mpredict\u001b[0m\u001b[1;33m(\u001b[0m\u001b[0mtest_in\u001b[0m\u001b[1;33m)\u001b[0m\u001b[1;33m\u001b[0m\u001b[1;33m\u001b[0m\u001b[0m\n",
      "\u001b[1;32m~\\miniconda3\\envs\\mnist_fpga\\lib\\site-packages\\hls4ml\\model\\hls_model.py\u001b[0m in \u001b[0;36mcompile\u001b[1;34m(self)\u001b[0m\n\u001b[0;32m    388\u001b[0m             \u001b[0mret_val\u001b[0m \u001b[1;33m=\u001b[0m \u001b[0mos\u001b[0m\u001b[1;33m.\u001b[0m\u001b[0msystem\u001b[0m\u001b[1;33m(\u001b[0m\u001b[1;34m'bash build_lib.sh'\u001b[0m\u001b[1;33m)\u001b[0m\u001b[1;33m\u001b[0m\u001b[1;33m\u001b[0m\u001b[0m\n\u001b[0;32m    389\u001b[0m             \u001b[1;32mif\u001b[0m \u001b[0mret_val\u001b[0m \u001b[1;33m!=\u001b[0m \u001b[1;36m0\u001b[0m\u001b[1;33m:\u001b[0m\u001b[1;33m\u001b[0m\u001b[1;33m\u001b[0m\u001b[0m\n\u001b[1;32m--> 390\u001b[1;33m                 \u001b[1;32mraise\u001b[0m \u001b[0mException\u001b[0m\u001b[1;33m(\u001b[0m\u001b[1;34m'Failed to compile project \"{}\"'\u001b[0m\u001b[1;33m.\u001b[0m\u001b[0mformat\u001b[0m\u001b[1;33m(\u001b[0m\u001b[0mself\u001b[0m\u001b[1;33m.\u001b[0m\u001b[0mconfig\u001b[0m\u001b[1;33m.\u001b[0m\u001b[0mget_project_name\u001b[0m\u001b[1;33m(\u001b[0m\u001b[1;33m)\u001b[0m\u001b[1;33m)\u001b[0m\u001b[1;33m)\u001b[0m\u001b[1;33m\u001b[0m\u001b[1;33m\u001b[0m\u001b[0m\n\u001b[0m\u001b[0;32m    391\u001b[0m             \u001b[0mlib_name\u001b[0m \u001b[1;33m=\u001b[0m \u001b[1;34m'firmware/{}-{}.so'\u001b[0m\u001b[1;33m.\u001b[0m\u001b[0mformat\u001b[0m\u001b[1;33m(\u001b[0m\u001b[0mself\u001b[0m\u001b[1;33m.\u001b[0m\u001b[0mconfig\u001b[0m\u001b[1;33m.\u001b[0m\u001b[0mget_project_name\u001b[0m\u001b[1;33m(\u001b[0m\u001b[1;33m)\u001b[0m\u001b[1;33m,\u001b[0m \u001b[0mself\u001b[0m\u001b[1;33m.\u001b[0m\u001b[0mconfig\u001b[0m\u001b[1;33m.\u001b[0m\u001b[0mget_config_value\u001b[0m\u001b[1;33m(\u001b[0m\u001b[1;34m'Stamp'\u001b[0m\u001b[1;33m)\u001b[0m\u001b[1;33m)\u001b[0m\u001b[1;33m\u001b[0m\u001b[1;33m\u001b[0m\u001b[0m\n\u001b[0;32m    392\u001b[0m             \u001b[1;32mif\u001b[0m \u001b[0mself\u001b[0m\u001b[1;33m.\u001b[0m\u001b[0m_top_function_lib\u001b[0m \u001b[1;32mis\u001b[0m \u001b[1;32mnot\u001b[0m \u001b[1;32mNone\u001b[0m\u001b[1;33m:\u001b[0m\u001b[1;33m\u001b[0m\u001b[1;33m\u001b[0m\u001b[0m\n",
      "\u001b[1;31mException\u001b[0m: Failed to compile project \"myproject\""
     ]
    }
   ],
   "source": [
    "import os\n",
    "# Add Vivado to PATH\n",
    "print(os.environ['PATH'])\n",
    "os.environ['PATH'] += ';C:\\\\Windows\\\\System32\\\\'\n",
    "os.environ['PATH'] += ';C:\\\\Xilinx\\\\Vivado\\\\2019.2\\\\bin\\\\unwrapped\\\\'\n",
    "print('\\n'+os.environ['PATH'])\n",
    "\n",
    "hls_model.compile()\n",
    "hls_output = hls_model.predict(test_in)"
   ]
  }
 ],
 "metadata": {
  "kernelspec": {
   "display_name": "Python 3",
   "language": "python",
   "name": "python3"
  },
  "language_info": {
   "codemirror_mode": {
    "name": "ipython",
    "version": 3
   },
   "file_extension": ".py",
   "mimetype": "text/x-python",
   "name": "python",
   "nbconvert_exporter": "python",
   "pygments_lexer": "ipython3",
   "version": "3.8.6"
  }
 },
 "nbformat": 4,
 "nbformat_minor": 4
}
